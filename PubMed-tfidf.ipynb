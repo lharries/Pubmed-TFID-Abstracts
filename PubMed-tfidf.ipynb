{
 "cells": [
  {
   "cell_type": "code",
   "execution_count": 49,
   "metadata": {
    "collapsed": true
   },
   "outputs": [],
   "source": [
    "import gensim\n",
    "from nltk.tokenize import word_tokenize\n",
    "from nltk.corpus import stopwords\n",
    "import string"
   ]
  },
  {
   "cell_type": "code",
   "execution_count": 63,
   "metadata": {
    "collapsed": true
   },
   "outputs": [],
   "source": [
    "# constants \n",
    "PATH = './abstracts.txt'\n",
    "NUMBER_OF_ABSTRACTS = 20000\n",
    "FIND_SIMILAR_TO = \"To investigate the myelinotoxicity of cerebropsinal fluid in multiple sclerosis, we used an in vivo model of the myelinated central-nervous-system tract of tadpoles for quantitative double-blind tests of 46 cerebrospinal-fluid samples. Groups of xenopus tadpoles were injected with cerebrospinal fluid near the optic nerve. Forty-eight hours later, whole mounts of optic nerves were prepared, and a differential interference microscope was used to count myelin lesions. Cerebrospinal-fluid samples from 60 per cent of the patients with an acute attack of definite multiple sclerosis had myelinotoxic activity. This activity correlated best with the severity and duration of the disease, rather than with gamma-globulin or total protein concentrations. Activity was negative in 85 per cent of cerebrospinal-fluid samples from a control group with other neurologic diseases. This assay is a useful method for investigating myelinotoxic factors of cerebrospinal fluid in patients with multiple sclerosis, but was not helpful diagnostically.\""
   ]
  },
  {
   "cell_type": "code",
   "execution_count": 52,
   "metadata": {},
   "outputs": [
    {
     "name": "stdout",
     "output_type": "stream",
     "text": [
      "Number of abstracts: 20000\n",
      "\n",
      "\n",
      "Example abstract:\n",
      "To investigate the myelinotoxicity of cerebropsinal fluid in multiple sclerosis, we used an in vivo model of the myelinated central-nervous-system tract of tadpoles for quantitative double-blind tests of 46 cerebrospinal-fluid samples. Groups of xenopus tadpoles were injected with cerebrospinal fluid near the optic nerve. Forty-eight hours later, whole mounts of optic nerves were prepared, and a differential interference microscope was used to count myelin lesions. Cerebrospinal-fluid samples from 60 per cent of the patients with an acute attack of definite multiple sclerosis had myelinotoxic activity. This activity correlated best with the severity and duration of the disease, rather than with gamma-globulin or total protein concentrations. Activity was negative in 85 per cent of cerebrospinal-fluid samples from a control group with other neurologic diseases. This assay is a useful method for investigating myelinotoxic factors of cerebrospinal fluid in patients with multiple sclerosis, but was not helpful diagnostically.\n"
     ]
    }
   ],
   "source": [
    "# get abstracts\n",
    "data = !head -{NUMBER_OF_ABSTRACTS*3} {PATH}\n",
    "raw_documents = list(filter(lambda x: x != '', data))\n",
    "print(f'Number of abstracts: {len(raw_documents)}')\n",
    "print('\\n')\n",
    "print(f'Example abstract:\\n{raw_documents[1]}')"
   ]
  },
  {
   "cell_type": "code",
   "execution_count": 53,
   "metadata": {
    "collapsed": true
   },
   "outputs": [],
   "source": [
    "# stop words include english dic and punctation\n",
    "stop = stopwords.words('english') + list(string.punctuation) + list(\"a\")"
   ]
  },
  {
   "cell_type": "code",
   "execution_count": 54,
   "metadata": {},
   "outputs": [],
   "source": [
    "gen_docs = []\n",
    "for text in raw_documents:\n",
    "    gen_docs.append([w for w in word_tokenize(text.lower()) if w not in stop])"
   ]
  },
  {
   "cell_type": "code",
   "execution_count": 64,
   "metadata": {},
   "outputs": [
    {
     "name": "stdout",
     "output_type": "stream",
     "text": [
      "Number of words in dictionary: 89671\n",
      "\n",
      "\n",
      "Most common words:\n",
      "0 allow\n",
      "1 chamber\n",
      "2 cleared\n",
      "3 constructed\n",
      "4 conveys\n",
      "5 cytological\n",
      "6 cytology\n",
      "7 electric\n",
      "8 error\n",
      "9 exfoliative\n",
      "10 filter\n",
      "11 filters\n",
      "12 heart\n",
      "13 judgement\n",
      "14 light-microscopical\n",
      "15 material\n",
      "16 mechanism\n",
      "17 new\n",
      "18 noticed\n",
      "19 papanicolaou\n"
     ]
    }
   ],
   "source": [
    "dictionary = gensim.corpora.Dictionary(gen_docs)\n",
    "print(\"Number of words in dictionary:\",len(dictionary))\n",
    "print(\"\\n\")\n",
    "print(\"Most common words:\")\n",
    "for i in range(20):\n",
    "    print(i, dictionary[i])"
   ]
  },
  {
   "cell_type": "code",
   "execution_count": 56,
   "metadata": {
    "collapsed": true
   },
   "outputs": [],
   "source": [
    "# Tutorial: https://www.oreilly.com/learning/how-do-i-compare-document-similarity-using-python\n",
    "# convert to bag of words, \n",
    "corpus = [dictionary.doc2bow(gen_doc) for gen_doc in gen_docs]"
   ]
  },
  {
   "cell_type": "code",
   "execution_count": 57,
   "metadata": {
    "collapsed": true
   },
   "outputs": [],
   "source": [
    "# create Tfid model\n",
    "tf_idf = gensim.models.TfidfModel(corpus)"
   ]
  },
  {
   "cell_type": "code",
   "execution_count": 58,
   "metadata": {},
   "outputs": [],
   "source": [
    "# compute similarities\n",
    "sims = gensim.similarities.Similarity(None,tf_idf[corpus], num_features=len(dictionary))"
   ]
  },
  {
   "cell_type": "code",
   "execution_count": 59,
   "metadata": {},
   "outputs": [
    {
     "data": {
      "text/plain": [
       "[('tadpoles', (42, 0.45383976103701629)),\n",
       " ('60', (75, 0.30255984069134417)),\n",
       " ('rather', (92, 0.28924030486958785)),\n",
       " ('duration', (90, 0.24592340927681602)),\n",
       " ('lesions', (72, 0.1862006732067478)),\n",
       " ('near', (55, 0.17505454772708953)),\n",
       " ('severity', (89, 0.17496862786927542)),\n",
       " ('multiple', (82, 0.1737229486877136)),\n",
       " ('tract', (41, 0.16645779319330634)),\n",
       " ('central-nervous-system', (40, 0.16266486878709835)),\n",
       " ('per', (76, 0.16266486878709835)),\n",
       " ('model', (38, 0.13964537013266173)),\n",
       " ('myelinated', (39, 0.12484488870068033)),\n",
       " ('samples', (48, 0.12053555338545606)),\n",
       " ('myelin', (71, 0.12053555338545606)),\n",
       " ('optic', (56, 0.11931832930126197)),\n",
       " ('per', (100, 0.10979480549711486)),\n",
       " ('definite', (81, 0.10680017234837591)),\n",
       " ('prepared', (65, 0.10088712432528638)),\n",
       " ('samples', (74, 0.10088712432528638)),\n",
       " ('myelinotoxic', (84, 0.096932481215636038)),\n",
       " ('later', (60, 0.09461384503807943)),\n",
       " ('used', (36, 0.088938977555125462)),\n",
       " ('optic', (63, 0.0887554559960715)),\n",
       " ('46', (46, 0.086223529745392102)),\n",
       " ('fluid', (33, 0.086124776748206233)),\n",
       " ('cerebropsinal', (32, 0.085913614727343948)),\n",
       " ('investigate', (30, 0.085163483976983173)),\n",
       " ('cerebrospinal-fluid', (73, 0.081734684352061202)),\n",
       " ('used', (69, 0.08069697034597377)),\n",
       " ('nerves', (64, 0.079932878686436518)),\n",
       " ('cerebrospinal-fluid', (47, 0.079305094934975257)),\n",
       " ('disease', (91, 0.078999977641119892)),\n",
       " ('attack', (80, 0.078899518559408952)),\n",
       " ('injected', (52, 0.078503716066105039)),\n",
       " ('nerve', (57, 0.075639960172836043)),\n",
       " ('cent', (77, 0.074760552612528827)),\n",
       " ('protein', (95, 0.072441287025576298)),\n",
       " ('vivo', (37, 0.070172166520030693)),\n",
       " ('groups', (49, 0.069256249325807415)),\n",
       " ('concentrations', (96, 0.066025758286745645)),\n",
       " ('mounts', (62, 0.065804065458193423)),\n",
       " ('differential', (66, 0.064050971732888956)),\n",
       " ('85', (99, 0.063729689926389083)),\n",
       " ('tadpoles', (51, 0.06287725763084609)),\n",
       " ('cerebrospinal', (53, 0.061995166026304255)),\n",
       " ('correlated', (87, 0.061432369773643525)),\n",
       " ('best', (88, 0.060921706611860145)),\n",
       " ('tests', (45, 0.060888220344079591)),\n",
       " ('interference', (67, 0.06078816922055845)),\n",
       " ('acute', (79, 0.06078816922055845)),\n",
       " ('whole', (61, 0.060072511090129434)),\n",
       " ('myelinotoxicity', (31, 0.059295402648515703)),\n",
       " ('activity', (97, 0.058816679985440448)),\n",
       " ('count', (70, 0.058611547862270331)),\n",
       " ('patients', (78, 0.058180420521752776)),\n",
       " ('activity', (85, 0.0567418046587677)),\n",
       " ('negative', (98, 0.055395147212441806)),\n",
       " ('fluid', (54, 0.054669191183356954)),\n",
       " ('sclerosis', (35, 0.054351570621405547)),\n",
       " ('gamma-globulin', (93, 0.053285908505307344)),\n",
       " ('multiple', (34, 0.05270662901957799)),\n",
       " ('sclerosis', (83, 0.048739134018383583)),\n",
       " ('total', (94, 0.047358175627724021)),\n",
       " ('hours', (59, 0.044471537545409508)),\n",
       " ('double-blind', (44, 0.042327607652930185)),\n",
       " ('quantitative', (43, 0.042080932955176328)),\n",
       " ('forty-eight', (58, 0.040586257897395728)),\n",
       " ('xenopus', (50, 0.040450753227144587)),\n",
       " ('microscope', (68, 0.039459529957595156)),\n",
       " ('activity', (86, 0.039082751905212411))]"
      ]
     },
     "execution_count": 59,
     "metadata": {},
     "output_type": "execute_result"
    }
   ],
   "source": [
    "# tokenize the query\n",
    "query_doc = [w for w in word_tokenize(FIND_SIMILAR_TO.lower()) if w not in stop]\n",
    "\n",
    "# convert query to bag of words\n",
    "query_doc_bow = dictionary.doc2bow(query_doc)\n",
    "\n",
    "# convert query to tfid\n",
    "query_doc_tf_idf = tf_idf[query_doc_bow]\n",
    "\n",
    "# view the terms with highest tfid value\n",
    "terms = [(x, y) for (x, y) in zip(query_doc,query_doc_tf_idf)]\n",
    "sorted(terms, key=lambda x: -x[1][1])"
   ]
  },
  {
   "cell_type": "code",
   "execution_count": 60,
   "metadata": {},
   "outputs": [
    {
     "name": "stdout",
     "output_type": "stream",
     "text": [
      "1.0\n",
      "To investigate the myelinotoxicity of cerebropsinal fluid in multiple sclerosis, we used an in vivo model of the myelinated central-nervous-system tract of tadpoles for quantitative double-blind tests of 46 cerebrospinal-fluid samples. Groups of xenopus tadpoles were injected with cerebrospinal fluid near the optic nerve. Forty-eight hours later, whole mounts of optic nerves were prepared, and a differential interference microscope was used to count myelin lesions. Cerebrospinal-fluid samples from 60 per cent of the patients with an acute attack of definite multiple sclerosis had myelinotoxic activity. This activity correlated best with the severity and duration of the disease, rather than with gamma-globulin or total protein concentrations. Activity was negative in 85 per cent of cerebrospinal-fluid samples from a control group with other neurologic diseases. This assay is a useful method for investigating myelinotoxic factors of cerebrospinal fluid in patients with multiple sclerosis, but was not helpful diagnostically.\n",
      "\n",
      "\n",
      "0.29945\n",
      "Components in cerebrospinal fluid that are antigenically related to myelin basic protein have been identified by a technique described recently [Barbarese, E., Braun, P. E. &amp; Carson, J. H. (1977) Proc. Natl. Acad. Sci. USA 74, 3360-3364] involving separating the cerebrospinal fluid proteins by sodium dodecyl sulfate/polyacrylamide gel electrophoresis and measuring the individual components by radioimmunoassay for myelin basic protein. Samples of cerebrospinal fluid from 48 different patients (23 with definite multiple sclerosis, 4 with suspected multiple sclerosis, and 21 with other neurological diseases) were examined by this technique. The results indicate that cerebrospinal fluid can contain at least three separate components that are detected by radioimmunoassay for myelin basic protein. On the basis of their apparent molecular weights, the three components were identified as follows: component I, intact myelin basic protein; component II, proteolytic fragments of myelin basic protein; and component III, a protein of unknown origin with an apparent molecular weight of 50,000. Most samples of cerebrospinal fluid (45 of 48) from patients with multiple sclerosis and from patients with other neurological diseases contained components I and II. Component III was detected in all of the samples from patients with definite multiple sclerosis, in three of four samples from patients with suspected multiple sclerosis, and in none of the samples from patients with other neurological diseases. Some implications of these findings are discussed.\n",
      "\n",
      "\n",
      "0.247132\n",
      "We have previously reported that myelin basic protein appears in CSF during acute attacks of multiple sclerosis. These studies have been extended to over 700 patients, 91 with multiple sclerosis. The data continues to indicate that myelin basic protein is released into cerebrospinal fluid during acute attacks of multiple sclerosis. We are currently characterizing the basic protein in the CSF.\n",
      "\n",
      "\n",
      "0.238209\n",
      "With a double-antibody radioimmunoassay performed on unconcentrated cerebrospinal fluid, eight of 14 patients in an acute phase of multiple sclerosis had levels of 3.4 to 15.4 ng per milliliter of the P1 fragment (residues 43-88) of myelin encephalitogenic protein. Encephalitogenic protein-P1 was found only in the acute phase and was present in six of seven persons in the first week of an exacerbation and absent in 29 multiple sclerosis patients who were stable or had a gradually progressive course. Six of 117 controls had detectable cerebrospinal fluid encephalitogenic protein-P1. Only in two of these, one with a recent cerebral infarction and one with diabetic nephropathy who was in coma, were the levels in the range encountered in patients in the acute phase of multiple sclerosis. Although not entirely specific for multiple sclerosis, the presence of material in the cerebrospinal fluid of multiple sclerosis patients cross-reacting with encephalitogenic protein-P1 appears to be a characteristic of acute exacerbations.\n",
      "\n",
      "\n",
      "0.208522\n",
      "Serum and cerebrospinal fluid of patients with multiple sclerosis, subacute sclerosing panencephalitis and other neurological disease have been tested by the indirect fluorescent antibody method for immunoglobulin M specific for measles. Only sera of three patients were positive. This feature is of little statistical importance. Nevertheless the authors emphasize the role of a possible viral infection in the pathogenesis of multiple sclerosis.\n",
      "\n",
      "\n"
     ]
    }
   ],
   "source": [
    "values = list(sims[query_doc_tf_idf])\n",
    "\n",
    "for sim in sorted(sims[query_doc_tf_idf])[::-1][:5]:\n",
    "    print(sim)\n",
    "    print(raw_documents[values.index(sim)])\n",
    "    print(\"\\n\")"
   ]
  }
 ],
 "metadata": {
  "kernelspec": {
   "display_name": "Python 3",
   "language": "python",
   "name": "python3"
  },
  "language_info": {
   "codemirror_mode": {
    "name": "ipython",
    "version": 3
   },
   "file_extension": ".py",
   "mimetype": "text/x-python",
   "name": "python",
   "nbconvert_exporter": "python",
   "pygments_lexer": "ipython3",
   "version": "3.6.3"
  }
 },
 "nbformat": 4,
 "nbformat_minor": 2
}
